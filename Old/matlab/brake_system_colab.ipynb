{
  "nbformat": 4,
  "nbformat_minor": 0,
  "metadata": {
    "colab": {
      "name": "Untitled9.ipynb",
      "provenance": [],
      "collapsed_sections": []
    },
    "kernelspec": {
      "name": "python3",
      "display_name": "Python 3"
    },
    "language_info": {
      "name": "python"
    }
  },
  "cells": [
    {
      "cell_type": "code",
      "source": [
        "!pip install scikit-fuzzy"
      ],
      "metadata": {
        "colab": {
          "base_uri": "https://localhost:8080/"
        },
        "id": "s1XdM3BGXXOu",
        "outputId": "99b5893f-46b0-4b08-f85b-0de37b70a760"
      },
      "execution_count": 3,
      "outputs": [
        {
          "output_type": "stream",
          "name": "stdout",
          "text": [
            "Collecting scikit-fuzzy\n",
            "  Downloading scikit-fuzzy-0.4.2.tar.gz (993 kB)\n",
            "\u001b[K     |████████████████████████████████| 993 kB 3.7 MB/s \n",
            "\u001b[?25hRequirement already satisfied: numpy>=1.6.0 in /usr/local/lib/python3.7/dist-packages (from scikit-fuzzy) (1.21.5)\n",
            "Requirement already satisfied: scipy>=0.9.0 in /usr/local/lib/python3.7/dist-packages (from scikit-fuzzy) (1.4.1)\n",
            "Requirement already satisfied: networkx>=1.9.0 in /usr/local/lib/python3.7/dist-packages (from scikit-fuzzy) (2.6.3)\n",
            "Building wheels for collected packages: scikit-fuzzy\n",
            "  Building wheel for scikit-fuzzy (setup.py) ... \u001b[?25l\u001b[?25hdone\n",
            "  Created wheel for scikit-fuzzy: filename=scikit_fuzzy-0.4.2-py3-none-any.whl size=894089 sha256=d9d2e5ca832b3a2e14f6356e154f4dd24ef501b939343f7a644cb391caf38b57\n",
            "  Stored in directory: /root/.cache/pip/wheels/d5/74/fc/38588a3d2e3f34f74588e6daa3aa5b0a322bd6f9420a707131\n",
            "Successfully built scikit-fuzzy\n",
            "Installing collected packages: scikit-fuzzy\n",
            "Successfully installed scikit-fuzzy-0.4.2\n"
          ]
        }
      ]
    },
    {
      "cell_type": "code",
      "source": [
        "import numpy as np\n",
        "import skfuzzy as fuzz\n",
        "from skfuzzy import control as ctrl"
      ],
      "metadata": {
        "id": "-t_tfdqaXveo"
      },
      "execution_count": null,
      "outputs": []
    },
    {
      "cell_type": "code",
      "source": [
        "\n",
        "#function\n",
        "distance = ctrl.Antecedent(np.arange(0,200,1),'distance')\n",
        "velocity = ctrl.Antecedent(np.arange(0,40,1),'velocity')\n",
        "brak = ctrl.Consequent(np.arange(0,9,1),'brak')"
      ],
      "metadata": {
        "id": "0f55HfiFXxX3"
      },
      "execution_count": null,
      "outputs": []
    },
    {
      "cell_type": "code",
      "source": [
        "###input:distance\n",
        "\n",
        "distance['veryclose'] = fuzz.trimf(distance.universe,[-12,0,12])\n",
        "distance['close']     = fuzz.trimf(distance.universe,[5,28,50])\n",
        "distance['near']      = fuzz.trimf(distance.universe,[20,60,100])\n",
        "distance['far']       = fuzz.trimf(distance.universe,[60,120,120])\n",
        "distance['veryfar']   = fuzz.trimf(distance.universe,[100,200,200])\n",
        "\n",
        "distance.view()\n",
        "velocity['stop']       = fuzz.trimf(velocity.universe,[0,0,3])\n",
        "velocity['veryslow']   = fuzz.trimf(velocity.universe,[0,5,10])\n",
        "velocity['slow']       = fuzz.trimf(velocity.universe,[5,13,20])\n",
        "velocity['medium']     = fuzz.trimf(velocity.universe,[10,15,20])\n",
        "velocity['fast']    = fuzz.trimf(velocity.universe,[15,25,35])\n",
        "velocity['veryfast']    = fuzz.trimf(velocity.universe,[25,32,40])\n",
        "velocity.view()\n",
        "brak['none'] = fuzz.trimf(brak.universe,[0,0,0])\n",
        "brak['light'] = fuzz.trimf(brak.universe,[0,1,3])\n",
        "brak['medium'] = fuzz.trimf(brak.universe,[1,3,5])\n",
        "brak['heavy'] = fuzz.trimf(brak.universe,[3,4,6])\n",
        "brak['veryheavy'] = fuzz.trimf(brak.universe,[5,6,8])\n",
        "brak.view()"
      ],
      "metadata": {
        "id": "2zCEFwEiXz6H"
      },
      "execution_count": null,
      "outputs": []
    },
    {
      "cell_type": "code",
      "source": [
        "\n",
        "rule1 = ctrl.Rule(distance['veryclose'] & velocity['stop'], brak['light'])\n",
        "rule2 = ctrl.Rule(distance['veryclose'] & velocity['veryslow'], brak['medium'])\n",
        "rule3 = ctrl.Rule(distance['veryclose'] & velocity['slow'], brak['heavy'])\n",
        "rule4 = ctrl.Rule(distance['veryclose'] & velocity['medium'], brak['heavy'])\n",
        "rule5 = ctrl.Rule(distance['veryclose'] & velocity['fast'], brak['veryheavy'])\n",
        "rule6 = ctrl.Rule(distance['veryclose'] & velocity['veryfast'], brak['veryheavy'])\n",
        "\n",
        "rule7 = ctrl.Rule(distance['close'] & velocity['stop'], brak['light'])\n",
        "rule8 = ctrl.Rule(distance['close'] & velocity['veryslow'], brak['medium'])\n",
        "rule9 = ctrl.Rule(distance['close'] & velocity['slow'], brak['medium'])\n",
        "rule10 = ctrl.Rule(distance['close'] & velocity['medium'], brak['heavy'])\n",
        "rule11 = ctrl.Rule(distance['close'] & velocity['fast'], brak['veryheavy'])\n",
        "rule12 = ctrl.Rule(distance['close'] & velocity['veryfast'], brak['veryheavy'])\n",
        "\n",
        "rule13 = ctrl.Rule(distance['near'] & velocity['stop'], brak['light'])\n",
        "rule14 = ctrl.Rule(distance['near'] & velocity['veryslow'], brak['light'])\n",
        "rule15 = ctrl.Rule(distance['near'] & velocity['slow'], brak['light'])\n",
        "rule16 = ctrl.Rule(distance['near'] & velocity['medium'], brak['medium'])\n",
        "rule17 = ctrl.Rule(distance['near'] & velocity['fast'], brak['medium'])\n",
        "rule18 = ctrl.Rule(distance['near'] & velocity['veryfast'], brak['heavy'])\n",
        "\n",
        "rule19 = ctrl.Rule(distance['far'] & velocity['stop'], brak['none'])\n",
        "rule20 = ctrl.Rule(distance['far'] & velocity['veryslow'], brak['none'])\n",
        "rule21 = ctrl.Rule(distance['far'] & velocity['slow'], brak['light'])\n",
        "rule22 = ctrl.Rule(distance['far'] & velocity['medium'], brak['light'])\n",
        "rule23 = ctrl.Rule(distance['far'] & velocity['fast'], brak['medium'])\n",
        "rule24 = ctrl.Rule(distance['far'] & velocity['veryfast'], brak['heavy'])\n",
        "\n",
        "rule25 = ctrl.Rule(distance['veryfar'] & velocity['stop'], brak['none'])\n",
        "rule26 = ctrl.Rule(distance['veryfar'] & velocity['veryslow'], brak['none'])\n",
        "rule27 = ctrl.Rule(distance['veryfar'] & velocity['slow'], brak['none'])\n",
        "rule28 = ctrl.Rule(distance['veryfar'] & velocity['medium'], brak['none'])\n",
        "rule29 = ctrl.Rule(distance['veryfar'] & velocity['fast'], brak['light'])\n",
        "rule30 = ctrl.Rule(distance['veryfar'] & velocity['veryfast'], brak['light'])\n",
        "\n",
        "rules = [rule1,\n",
        " rule2,\n",
        " rule3,\n",
        " rule4,\n",
        " rule5,\n",
        " rule6,\n",
        " rule7,\n",
        " rule8,\n",
        " rule9,\n",
        " rule10,\n",
        " rule11,\n",
        " rule12,\n",
        " rule13,\n",
        " rule14,\n",
        " rule15,\n",
        " rule16,\n",
        " rule17,\n",
        " rule18,\n",
        " rule19,\n",
        " rule20,\n",
        " rule21,\n",
        " rule22,\n",
        " rule23,\n",
        " rule24,\n",
        " rule25,\n",
        " rule26,\n",
        " rule27,\n",
        " rule28,\n",
        " rule29,\n",
        " rule30]"
      ],
      "metadata": {
        "id": "sh4VqYThX0zO"
      },
      "execution_count": null,
      "outputs": []
    },
    {
      "cell_type": "code",
      "source": [
        "\n",
        "breaking_ctrl = ctrl.ControlSystem(rules)\n",
        "breaking = ctrl.ControlSystemSimulation(breaking_ctrl)\n",
        "\n",
        "breaking.input['distance'] = 100\n",
        "breaking.input['velocity'] = 35\n",
        "\n",
        "\n",
        "# Crunch the numbers\n",
        "breaking.compute()"
      ],
      "metadata": {
        "id": "mmzklzUPX8w-"
      },
      "execution_count": null,
      "outputs": []
    },
    {
      "cell_type": "code",
      "source": [
        "print(breaking.output['brak'])\n",
        "brak.view(sim= breaking)\n",
        "if __name__ == \"__main__\":\n",
        "  speed = int(input(\"Enter Speed : \"))\n",
        "  distance = int(input(\"Enter distance : \"))\n",
        "  breaking.input['distance'] = distance\n",
        "  breaking.input['velocity'] = speed\n",
        "  breaking.compute()\n",
        "  print(\"Output for breaking pressure : \" + str(breaking.output['brak']))\n",
        "  brak.view(sim = breaking)"
      ],
      "metadata": {
        "id": "GUbW0H9tX5x-"
      },
      "execution_count": null,
      "outputs": []
    }
  ]
}